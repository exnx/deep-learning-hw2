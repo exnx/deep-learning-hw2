{
 "cells": [
  {
   "cell_type": "code",
   "execution_count": 9,
   "metadata": {},
   "outputs": [],
   "source": [
    "import torch\n",
    "import numpy as np\n",
    "import torchvision\n",
    "import torch.nn as nn\n",
    "from torch.utils.data.dataset import Dataset\n",
    "from torch.utils.data.dataloader import DataLoader\n",
    "from torchvision import datasets, transforms, models\n",
    "from PIL import Image\n",
    "import matplotlib.pyplot as plt\n",
    "import pandas as pd\n",
    "import torch.nn.functional as F"
   ]
  },
  {
   "cell_type": "code",
   "execution_count": 10,
   "metadata": {},
   "outputs": [],
   "source": [
    "class Network(nn.Module):\n",
    "    \n",
    "    def __init__(self):\n",
    "\n",
    "        super().__init__()\n",
    "\n",
    "        # sees 32, 32, 3\n",
    "        self.conv1 = nn.Conv2d(3, 16, 3, padding=1)\n",
    "#         self.batch_norm1 = nn.BatchNorm2d(16)\n",
    "        \n",
    "        # sees 16, 16, 64\n",
    "        self.conv2 = nn.Conv2d(16, 32, 3, padding=1)\n",
    "#         self.batch_norm2 = nn.BatchNorm2d(32)\n",
    "        \n",
    "        # sees 8, 8, 128\n",
    "        self.conv3 = nn.Conv2d(32, 64, 3, padding=1)\n",
    "#         self.batch_norm3 = nn.BatchNorm2d(64)\n",
    "\n",
    "        # dropout layer\n",
    "        self.drop_out = nn.Dropout(0.25)\n",
    "        \n",
    "        # will get flattened and sees 4, 4, 64\n",
    "        self.fc1 = nn.Linear(4*4*64, 500)\n",
    "        self.fc2 = nn.Linear(500, 10)\n",
    "        \n",
    "        self.max_pool = nn.MaxPool2d(2, 2)\n",
    "        self.softmax = nn.Softmax(dim=1)\n",
    "        \n",
    "#         self.batch_norm_fc1 = nn.BatchNorm1d(4000)\n",
    "\n",
    "    def forward(self, x):\n",
    "\n",
    "#         x = self.max_pool(F.relu(self.batch_norm1(self.conv1(x))))\n",
    "#         x = F.relu(self.batch_norm2(self.conv2(x)))\n",
    "#         x = F.relu(self.batch_norm3(self.conv3(x)))\n",
    "        \n",
    "        x = self.max_pool(F.relu(self.conv1(x)))\n",
    "        x = self.max_pool(F.relu(self.conv2(x)))\n",
    "        x = self.max_pool(F.relu(self.conv3(x)))\n",
    "        \n",
    "        # flatten\n",
    "        x = x.view(-1, 4*4*64)\n",
    "        \n",
    "        x = self.drop_out(x)\n",
    "        x = F.relu(self.fc1(x))\n",
    "        \n",
    "        x = self.drop_out(x)      \n",
    "        x = self.fc2(x)\n",
    "#         x = self.softmax(x)\n",
    "\n",
    "        return x"
   ]
  },
  {
   "cell_type": "code",
   "execution_count": 11,
   "metadata": {},
   "outputs": [],
   "source": [
    "# load CIFAR image data"
   ]
  },
  {
   "cell_type": "code",
   "execution_count": 12,
   "metadata": {},
   "outputs": [
    {
     "name": "stdout",
     "output_type": "stream",
     "text": [
      "Files already downloaded and verified\n",
      "Files already downloaded and verified\n"
     ]
    }
   ],
   "source": [
    "BATCH_SIZE = 50\n",
    "\n",
    "transform = transforms.Compose(\n",
    "    [transforms.ToTensor(),\n",
    "     transforms.Normalize((0.4914, 0.4822, 0.4465), (0.247, 0.243, 0.261))])\n",
    "\n",
    "trainset = torchvision.datasets.CIFAR10(root='./data', train=True,\n",
    "                                        download=True, transform=transform)\n",
    "trainloader = torch.utils.data.DataLoader(trainset, batch_size=BATCH_SIZE,\n",
    "                                          shuffle=True, num_workers=2)\n",
    "\n",
    "testset = torchvision.datasets.CIFAR10(root='./data', train=False,\n",
    "                                       download=True, transform=transform)\n",
    "testloader = torch.utils.data.DataLoader(testset, batch_size=BATCH_SIZE,\n",
    "shuffle=False, num_workers=2)\n",
    "\n",
    "classes = ('plane', 'car', 'bird', 'cat',\n",
    "           'deer', 'dog', 'frog', 'horse', 'ship', 'truck')"
   ]
  },
  {
   "cell_type": "code",
   "execution_count": 13,
   "metadata": {},
   "outputs": [],
   "source": [
    "# create network object\n",
    "model = Network()"
   ]
  },
  {
   "cell_type": "code",
   "execution_count": 14,
   "metadata": {},
   "outputs": [],
   "source": [
    "# define the optimizer and loss function\n",
    "\n",
    "import torch.optim as optim\n",
    "\n",
    "criterion = nn.CrossEntropyLoss()\n",
    "optimizer = optim.SGD(model.parameters(), lr=0.01)\n",
    "# optimizer = torch.optim.Adam(model.parameters(), lr=0.01, weight_decay=1e-5)\n",
    "\n",
    "# Device configuration\n",
    "device = torch.device('cuda:0' if torch.cuda.is_available() else 'cpu')\n",
    "# device = 'cuda:0'"
   ]
  },
  {
   "cell_type": "code",
   "execution_count": 15,
   "metadata": {},
   "outputs": [
    {
     "data": {
      "text/plain": [
       "Network(\n",
       "  (conv1): Conv2d(3, 16, kernel_size=(3, 3), stride=(1, 1), padding=(1, 1))\n",
       "  (conv2): Conv2d(16, 32, kernel_size=(3, 3), stride=(1, 1), padding=(1, 1))\n",
       "  (conv3): Conv2d(32, 64, kernel_size=(3, 3), stride=(1, 1), padding=(1, 1))\n",
       "  (drop_out): Dropout(p=0.25)\n",
       "  (fc1): Linear(in_features=1024, out_features=500, bias=True)\n",
       "  (fc2): Linear(in_features=500, out_features=10, bias=True)\n",
       "  (max_pool): MaxPool2d(kernel_size=2, stride=2, padding=0, dilation=1, ceil_mode=False)\n",
       "  (softmax): Softmax()\n",
       ")"
      ]
     },
     "execution_count": 15,
     "metadata": {},
     "output_type": "execute_result"
    }
   ],
   "source": [
    "# move to gpu\n",
    "model.to(device)"
   ]
  },
  {
   "cell_type": "code",
   "execution_count": 16,
   "metadata": {},
   "outputs": [
    {
     "name": "stdout",
     "output_type": "stream",
     "text": [
      "Epoch [1/1], Step [1/1000], Loss: 2.3098\n",
      "Epoch [1/1], Step [101/1000], Loss: 2.2811\n",
      "Epoch [1/1], Step [201/1000], Loss: 2.2590\n",
      "Epoch [1/1], Step [301/1000], Loss: 2.2672\n",
      "Epoch [1/1], Step [401/1000], Loss: 2.1919\n",
      "Epoch [1/1], Step [501/1000], Loss: 2.0986\n",
      "Epoch [1/1], Step [601/1000], Loss: 2.0304\n",
      "Epoch [1/1], Step [701/1000], Loss: 2.2009\n",
      "Epoch [1/1], Step [801/1000], Loss: 2.1185\n",
      "Epoch [1/1], Step [901/1000], Loss: 1.9045\n",
      "Epoch [1/1], Train Loss: 2.1502\n",
      "Epoch [1/1], Test Loss: 1.9602\n",
      "Test Accuracy: 29.22 %\n"
     ]
    }
   ],
   "source": [
    "# train the model\n",
    "epochs = 1\n",
    "total_steps = len(trainloader)\n",
    "training_losses = []\n",
    "test_losses = []\n",
    "train_acc = []\n",
    "test_acc = []\n",
    "\n",
    "# loop through epochs\n",
    "for epoch in range(epochs):\n",
    "    \n",
    "    train_running_loss = 0  # track train running loss\n",
    "    correct = 0\n",
    "    total = 0\n",
    "    \n",
    "    model.train() # set to train mode\n",
    "    \n",
    "    # load batch images/labels\n",
    "    for step, (images, labels) in enumerate(trainloader):\n",
    "        \n",
    "        # put data onto available device\n",
    "        images = images.to(device)\n",
    "        labels = labels.to(device)\n",
    "        \n",
    "        # zero the parameter gradients\n",
    "        optimizer.zero_grad()\n",
    "    \n",
    "        outputs = model(images)  # forward pass\n",
    "        _, predicted = torch.max(outputs.data, 1)  # retrieve top preds\n",
    "        \n",
    "        total += labels.size(0)  # add batch size\n",
    "        correct += (predicted == labels).sum().item()  # calc num correct\n",
    "        \n",
    "        loss = criterion(outputs, labels)  # calc loss\n",
    "        train_running_loss += loss.item()  # acc running loss\n",
    "        \n",
    "        loss.backward()   # backprop\n",
    "        optimizer.step()  # forward\n",
    "\n",
    "        if step % 100 == 0:  # print progress by iteration\n",
    "        \n",
    "            print('Epoch [{}/{}], Step [{}/{}], Loss: {:.4f}' \n",
    "            .format(epoch+1, epochs, step+1, total_steps, loss.item()))\n",
    "    \n",
    "    # div by num batches to get average\n",
    "    epoch_train_loss = train_running_loss / len(trainloader)\n",
    "                   \n",
    "    print('Epoch [{}/{}], Train Loss: {:.4f}'.format(epoch+1, epochs, epoch_train_loss))\n",
    "        \n",
    "    # append the loss/acc after all the steps \n",
    "    training_losses.append(epoch_train_loss)\n",
    "    train_acc.append(correct / total)\n",
    "        \n",
    "    \n",
    "    # ------------------------------ #\n",
    "    \n",
    "\n",
    "    # evaluate on test data\n",
    "    model.eval()\n",
    "    with torch.no_grad():\n",
    "        test_running_loss = 0  # track test running loss\n",
    "        correct = 0\n",
    "        total = 0\n",
    "\n",
    "        for images, labels in testloader:\n",
    "                   \n",
    "            images = images.to(device)\n",
    "            labels = labels.to(device)\n",
    "            outputs = model(images)\n",
    "            _, predicted = torch.max(outputs.data, 1)\n",
    "                   \n",
    "            loss = criterion(outputs, labels)\n",
    "            test_running_loss += loss.item()\n",
    "                   \n",
    "            total += labels.size(0)\n",
    "            correct += (predicted == labels).sum().item()\n",
    "                 \n",
    "    # div by num batches\n",
    "    epoch_test_loss = test_running_loss / len(testloader)\n",
    "                   \n",
    "    print('Epoch [{}/{}], Test Loss: {:.4f}'.format(epoch+1, epochs, epoch_test_loss))\n",
    "        \n",
    "    # append the loss & acc after all the steps \n",
    "    test_losses.append(epoch_test_loss)\n",
    "    test_acc.append(correct / total)\n",
    "            \n",
    "    print('Test Accuracy: {} %'.format(100 * correct / total))"
   ]
  },
  {
   "cell_type": "code",
   "execution_count": 17,
   "metadata": {},
   "outputs": [],
   "source": [
    "def plot_graph(train_losses, test_losses, train_acc, test_acc):\n",
    "    # plot graph\n",
    "    plt.subplot(1, 2, 1)\n",
    "    plt.plot(train_losses, label=\"Train loss\")\n",
    "    plt.plot(test_losses, label=\"Test loss\")\n",
    "    plt.legend(loc='best')\n",
    "    plt.title(\"Loss vs Epochs\")\n",
    "    plt.xlabel(\"Epochs\")\n",
    "    plt.ylabel(\"Loss (Cross entropy)\")\n",
    "\n",
    "    plt.subplot(1, 2, 2)\n",
    "    plt.plot(train_acc, label=\"Train Accuracy\")\n",
    "    plt.plot(test_acc, label=\"Test Accuracy\")\n",
    "    plt.legend(loc='best')\n",
    "    plt.title(\"Accuracy vs Epochs\")\n",
    "    plt.xlabel(\"Epochs\")\n",
    "    plt.ylabel(\"Accuracy\")\n",
    "    plt.show()\n",
    "    plt.savefig('part_a_cifar_loss_acc.png')"
   ]
  },
  {
   "cell_type": "code",
   "execution_count": 18,
   "metadata": {},
   "outputs": [
    {
     "data": {
      "image/png": "[encoded data removed]",
      "text/plain": [
       "<Figure size 432x288 with 2 Axes>"
      ]
     },
     "metadata": {},
     "output_type": "display_data"
    },
    {
     "data": {
      "text/plain": [
       "<Figure size 432x288 with 0 Axes>"
      ]
     },
     "metadata": {},
     "output_type": "display_data"
    }
   ],
   "source": [
    "plot_graph(training_losses, test_losses, train_acc, test_acc)"
   ]
  },
  {
   "cell_type": "code",
   "execution_count": 19,
   "metadata": {
    "scrolled": true
   },
   "outputs": [],
   "source": [
    "# retrieve conv1 layer, convert to numpy array, put on cpu first\n",
    "weights = model.conv1.weight.data.cpu()"
   ]
  },
  {
   "cell_type": "code",
   "execution_count": 20,
   "metadata": {},
   "outputs": [],
   "source": [
    "# def norm_stretch(filter):\n",
    "    \n",
    "#     filter = filter - torch.min(filter)\n",
    "    \n",
    "#     return filter / torch.max(filter)"
   ]
  },
  {
   "cell_type": "code",
   "execution_count": 29,
   "metadata": {},
   "outputs": [],
   "source": [
    "# # plot filters\n",
    "# def plot_kernels(tensor, num_rows=8, num_cols=8):\n",
    "\n",
    "#     fig = plt.figure(figsize=(num_cols,num_rows))\n",
    "    \n",
    "#     for i in range(tensor.shape[0]):\n",
    "#         ax1 = fig.add_subplot(num_rows,num_cols,i+1)  \n",
    "        \n",
    "#         # need to reshape it to move channels to end\n",
    "# #         reshaped = tensor[i].view(11,11,3)\n",
    "    \n",
    "#         norm_tensor = norm_stretch(tensor[i])\n",
    "#         reshaped = np.transpose(norm_tensor.numpy(),(2,1,0))\n",
    "        \n",
    "        \n",
    "# #         print(norm_tensor.shape)\n",
    "        \n",
    "# #         ax1.imshow(tensor[i])\n",
    "#         ax1.imshow(norm_tensor)\n",
    "#         ax1.axis('off')\n",
    "#         ax1.set_xticklabels([])\n",
    "#         ax1.set_yticklabels([])\n",
    "    \n",
    "# #     plt.subplots_adjust(wspace=0.1, hspace=0.1)\n",
    "#     plt.savefig('filters_part3b.jpg')\n",
    "#     plt.show()\n",
    "#     plt.clf()\n",
    "    "
   ]
  },
  {
   "cell_type": "code",
   "execution_count": 30,
   "metadata": {},
   "outputs": [
    {
     "name": "stdout",
     "output_type": "stream",
     "text": [
      "torch.Size([3, 3, 3])\n",
      "torch.Size([3, 3, 3])\n",
      "torch.Size([3, 3, 3])\n",
      "torch.Size([3, 3, 3])\n",
      "torch.Size([3, 3, 3])\n",
      "torch.Size([3, 3, 3])\n",
      "torch.Size([3, 3, 3])\n",
      "torch.Size([3, 3, 3])\n",
      "torch.Size([3, 3, 3])\n",
      "torch.Size([3, 3, 3])\n",
      "torch.Size([3, 3, 3])\n",
      "torch.Size([3, 3, 3])\n",
      "torch.Size([3, 3, 3])\n",
      "torch.Size([3, 3, 3])\n",
      "torch.Size([3, 3, 3])\n",
      "torch.Size([3, 3, 3])\n"
     ]
    },
    {
     "data": {
      "image/png": "[encoded data removed]",
      "text/plain": [
       "<Figure size 576x576 with 16 Axes>"
      ]
     },
     "metadata": {},
     "output_type": "display_data"
    },
    {
     "data": {
      "text/plain": [
       "<Figure size 432x288 with 0 Axes>"
      ]
     },
     "metadata": {},
     "output_type": "display_data"
    }
   ],
   "source": [
    "# plot_kernels(weights)"
   ]
  },
  {
   "cell_type": "code",
   "execution_count": null,
   "metadata": {},
   "outputs": [],
   "source": []
  },
  {
   "cell_type": "code",
   "execution_count": null,
   "metadata": {},
   "outputs": [],
   "source": []
  },
  {
   "cell_type": "code",
   "execution_count": null,
   "metadata": {},
   "outputs": [],
   "source": []
  },
  {
   "cell_type": "code",
   "execution_count": null,
   "metadata": {},
   "outputs": [],
   "source": []
  },
  {
   "cell_type": "code",
   "execution_count": null,
   "metadata": {},
   "outputs": [],
   "source": []
  },
  {
   "cell_type": "code",
   "execution_count": null,
   "metadata": {},
   "outputs": [],
   "source": []
  }
 ],
 "metadata": {
  "kernelspec": {
   "display_name": "Python 3",
   "language": "python",
   "name": "python3"
  },
  "language_info": {
   "codemirror_mode": {
    "name": "ipython",
    "version": 3
   },
   "file_extension": ".py",
   "mimetype": "text/x-python",
   "name": "python",
   "nbconvert_exporter": "python",
   "pygments_lexer": "ipython3",
   "version": "3.6.6"
  }
 },
 "nbformat": 4,
 "nbformat_minor": 2
}
